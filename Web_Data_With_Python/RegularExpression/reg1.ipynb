{
 "cells": [
  {
   "cell_type": "code",
   "execution_count": 2,
   "metadata": {},
   "outputs": [],
   "source": [
    "import re\n",
    "import string\n"
   ]
  },
  {
   "cell_type": "code",
   "execution_count": 3,
   "metadata": {},
   "outputs": [
    {
     "name": "stdout",
     "output_type": "stream",
     "text": [
      "        From\n",
      "        From\n"
     ]
    }
   ],
   "source": [
    "\n",
    "\n",
    "hand = open(r\"D:\\myCode\\Python\\Web_Data_With_Python\\RegularExpression\\file1.txt\",\"r+\")\n",
    "for line in hand:\n",
    "    line = line.rstrip()\n",
    "    if line.find('From'):\n",
    "        print(line)\n",
    "        \n",
    "        \n",
    "hand.close()\n",
    "\n",
    "\n"
   ]
  },
  {
   "cell_type": "code",
   "execution_count": 4,
   "metadata": {},
   "outputs": [
    {
     "name": "stdout",
     "output_type": "stream",
     "text": [
      "From\n"
     ]
    }
   ],
   "source": [
    "\n",
    "# ^ mean starting character\n",
    "hand = open(r\"D:\\myCode\\Python\\Web_Data_With_Python\\RegularExpression\\file1.txt\",\"r+\")\n",
    "for line in hand:\n",
    "    line = line.rstrip()\n",
    "    if re.search('^From',line):\n",
    "        print(line)\n",
    "        \n",
    "        \n",
    "hand.close()\n",
    "        \n",
    "        \n"
   ]
  },
  {
   "cell_type": "code",
   "execution_count": 5,
   "metadata": {},
   "outputs": [
    {
     "name": "stdout",
     "output_type": "stream",
     "text": [
      "22\n",
      "19\n",
      "03\n",
      "0\n",
      "\n",
      "['22', '19', '03', '0']\n"
     ]
    }
   ],
   "source": [
    "\n",
    "# extracting numbers from string\n",
    "x = \"My favourite is 22 and 19 03 0\"\n",
    "lis = re.findall(\"[0-9]+\",x)\n",
    "for i in lis:\n",
    "    print(i)\n",
    "print()\n",
    "print(lis) \n",
    "\n"
   ]
  },
  {
   "cell_type": "code",
   "execution_count": 6,
   "metadata": {},
   "outputs": [
    {
     "name": "stdout",
     "output_type": "stream",
     "text": [
      "['From:']\n"
     ]
    }
   ],
   "source": [
    "\n",
    "\n",
    "string = \"From: The compleet Bootcamp: 2022\"\n",
    "# To avoid Greedy use ?\n",
    "lis = re.findall('^F.+?:',string)  #findall('^F.+:',string) This is greedy method as return largest possibel string \n",
    "print(lis)\n",
    "\n",
    "\n"
   ]
  },
  {
   "cell_type": "code",
   "execution_count": 7,
   "metadata": {},
   "outputs": [
    {
     "name": "stdout",
     "output_type": "stream",
     "text": [
      "['himanshu08@gmail.com']\n"
     ]
    }
   ],
   "source": [
    "\n",
    "str1 = \"From himanshu08@gmail.com 20 302 \"\n",
    "reg = re.findall('\\S+@\\S+',str1)\n",
    "print(reg)\n",
    "\n",
    "\n"
   ]
  },
  {
   "cell_type": "code",
   "execution_count": 8,
   "metadata": {},
   "outputs": [
    {
     "name": "stdout",
     "output_type": "stream",
     "text": [
      "11\n",
      "15\n",
      "com\n"
     ]
    }
   ],
   "source": [
    "\n",
    "# extract hostname with slicing and find method\n",
    "addr = \"From google@com 08-08-2002\"\n",
    "atpos = addr.find('@')\n",
    "print(atpos)\n",
    "stpos = addr.find(' ',atpos)\n",
    "print(stpos)\n",
    "host = addr[atpos+1:stpos]\n",
    "print(host)\n"
   ]
  },
  {
   "cell_type": "code",
   "execution_count": 9,
   "metadata": {},
   "outputs": [
    {
     "name": "stdout",
     "output_type": "stream",
     "text": [
      "com\n"
     ]
    }
   ],
   "source": [
    "# Double split pattern\n",
    "# second method of doing it by spliting words\n",
    "words = addr.split()\n",
    "ur = words[1]\n",
    "hostname = ur.split('@')\n",
    "print(hostname[1])\n"
   ]
  },
  {
   "cell_type": "code",
   "execution_count": 10,
   "metadata": {},
   "outputs": [
    {
     "name": "stdout",
     "output_type": "stream",
     "text": [
      "HTTP/1.1 200 OK\n",
      "Date: Sun, 06 Mar 2022 14:37:22 GMT\n",
      "Server: Apache/2.4.18 (Ubuntu)\n",
      "Last-Modified: Sat, 13 May 2017 11:22:22 GMT\n",
      "ETag: \"a7-54f6609245537\"\n",
      "Accept-Ranges: bytes\n",
      "Content-Length: 167\n",
      "Cache-Control: max-age=0, no-cache, no-store, must-revalidate\n",
      "Pragma: no-cache\n",
      "Expires: Wed, 11 Jan 1984 05:00:00 GMT\n",
      "Connection: close\n",
      "Content-Type: text/plain\n",
      "\n",
      "But soft what light through yonder window breaks\n",
      "It is the east and Juliet is the sun\n",
      "Arise fair sun and kill the envious moon\n",
      "Who is already sick and pale with grief\n",
      "\n"
     ]
    }
   ],
   "source": [
    "import socket\n",
    "\n",
    "mysock = socket.socket(socket.AF_INET , socket.SOCK_STREAM)\n",
    "mysock.connect(('data.pr4e.org', 80))\n",
    "cmd = 'GET http://data.pr4e.org/romeo.txt HTTP/1.0\\r\\n\\r\\n'.encode()\n",
    "\n",
    "mysock.send(cmd)\n",
    "\n",
    "while True:\n",
    "    data = mysock.recv(1024)\n",
    "    if (len(data) < 1):\n",
    "        break\n",
    "    print(data.decode())\n",
    "mysock.close()\n",
    "\n"
   ]
  },
  {
   "cell_type": "code",
   "execution_count": 11,
   "metadata": {},
   "outputs": [
    {
     "name": "stdout",
     "output_type": "stream",
     "text": [
      "HTTP/1.1 400 Bad Request\n",
      "Date: Sun, 06 Mar 2022 14:37:23 GMT\n",
      "Server: Apache\n",
      "Content-Length: 226\n",
      "Connection: close\n",
      "Content-Type: text/html; charset=iso-8859-1\n",
      "\n",
      "<!DOCTYPE HTML PUBLIC \"-//IETF//DTD HTML 2.0//EN\">\n",
      "<html><head>\n",
      "<title>400 Bad Request</title>\n",
      "</head><body>\n",
      "<h1>Bad Request</h1>\n",
      "<p>Your browser sent a request that this server could not understand.<br />\n",
      "</p>\n",
      "</body></html>\n",
      "\n"
     ]
    }
   ],
   "source": [
    "import socket\n",
    "\n",
    "mysock = socket.socket(socket.AF_INET , socket.SOCK_STREAM)\n",
    "mysock.connect(('geeksforgeeks.org', 80))\n",
    "cmd = 'GET https://www.geeksforgeeks.org/analysis-of-algorithms-set-1-asymptotic-analysis HTTP/2.0\\r\\n\\r\\n'.encode()\n",
    "\n",
    "mysock.send(cmd)\n",
    "\n",
    "while True:\n",
    "    data = mysock.recv(1024)\n",
    "    if (len(data) < 1):\n",
    "        break\n",
    "    print(data.decode())\n",
    "mysock.close()\n",
    "\n"
   ]
  }
 ],
 "metadata": {
  "interpreter": {
   "hash": "9bf2ca0f4a7adc3ce2f237ca763c1538d3ef289a4e7face3612a01cdae9f6807"
  },
  "kernelspec": {
   "display_name": "Python 3.10.1 64-bit",
   "language": "python",
   "name": "python3"
  },
  "language_info": {
   "codemirror_mode": {
    "name": "ipython",
    "version": 3
   },
   "file_extension": ".py",
   "mimetype": "text/x-python",
   "name": "python",
   "nbconvert_exporter": "python",
   "pygments_lexer": "ipython3",
   "version": "3.10.2"
  },
  "orig_nbformat": 4
 },
 "nbformat": 4,
 "nbformat_minor": 2
}
